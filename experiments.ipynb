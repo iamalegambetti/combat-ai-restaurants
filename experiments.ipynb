{
  "cells": [
    {
      "cell_type": "markdown",
      "metadata": {
        "id": "iWpFkNZTcFr2"
      },
      "source": [
        "### OpenAI Benchmark"
      ]
    },
    {
      "cell_type": "code",
      "execution_count": 10,
      "metadata": {
        "colab": {
          "base_uri": "https://localhost:8080/",
          "height": 575
        },
        "id": "NzrqeJzmcHje",
        "outputId": "39f8e264-1638-40c9-8429-b33e2b1a0387"
      },
      "outputs": [
        {
          "name": "stdout",
          "output_type": "stream",
          "text": [
            "Looking in indexes: https://pypi.org/simple, https://us-python.pkg.dev/colab-wheels/public/simple/\n",
            "Collecting transformers==4.25.0\n",
            "  Downloading transformers-4.25.0-py3-none-any.whl (5.8 MB)\n",
            "\u001b[2K     \u001b[90m━━━━━━━━━━━━━━━━━━━━━━━━━━━━━━━━━━━━━━━━\u001b[0m \u001b[32m5.8/5.8 MB\u001b[0m \u001b[31m21.0 MB/s\u001b[0m eta \u001b[36m0:00:00\u001b[0m\n",
            "\u001b[?25hRequirement already satisfied: pyyaml>=5.1 in /usr/local/lib/python3.8/dist-packages (from transformers==4.25.0) (6.0)\n",
            "Requirement already satisfied: regex!=2019.12.17 in /usr/local/lib/python3.8/dist-packages (from transformers==4.25.0) (2022.6.2)\n",
            "Requirement already satisfied: packaging>=20.0 in /usr/local/lib/python3.8/dist-packages (from transformers==4.25.0) (23.0)\n",
            "Requirement already satisfied: numpy>=1.17 in /usr/local/lib/python3.8/dist-packages (from transformers==4.25.0) (1.21.6)\n",
            "Requirement already satisfied: filelock in /usr/local/lib/python3.8/dist-packages (from transformers==4.25.0) (3.9.0)\n",
            "Requirement already satisfied: huggingface-hub<1.0,>=0.10.0 in /usr/local/lib/python3.8/dist-packages (from transformers==4.25.0) (0.12.0)\n",
            "Requirement already satisfied: tqdm>=4.27 in /usr/local/lib/python3.8/dist-packages (from transformers==4.25.0) (4.64.1)\n",
            "Requirement already satisfied: tokenizers!=0.11.3,<0.14,>=0.11.1 in /usr/local/lib/python3.8/dist-packages (from transformers==4.25.0) (0.13.2)\n",
            "Requirement already satisfied: requests in /usr/local/lib/python3.8/dist-packages (from transformers==4.25.0) (2.25.1)\n",
            "Requirement already satisfied: typing-extensions>=3.7.4.3 in /usr/local/lib/python3.8/dist-packages (from huggingface-hub<1.0,>=0.10.0->transformers==4.25.0) (4.4.0)\n",
            "Requirement already satisfied: idna<3,>=2.5 in /usr/local/lib/python3.8/dist-packages (from requests->transformers==4.25.0) (2.10)\n",
            "Requirement already satisfied: certifi>=2017.4.17 in /usr/local/lib/python3.8/dist-packages (from requests->transformers==4.25.0) (2022.12.7)\n",
            "Requirement already satisfied: chardet<5,>=3.0.2 in /usr/local/lib/python3.8/dist-packages (from requests->transformers==4.25.0) (4.0.0)\n",
            "Requirement already satisfied: urllib3<1.27,>=1.21.1 in /usr/local/lib/python3.8/dist-packages (from requests->transformers==4.25.0) (1.24.3)\n",
            "\u001b[33mWARNING: The candidate selected for download or install is a yanked version: 'transformers' candidate (version 4.25.0 at https://files.pythonhosted.org/packages/2b/a6/b32ba581c064276dc254a4c2bdf5301a942fa28a4a9b41209d8909da37d2/transformers-4.25.0-py3-none-any.whl#sha256=e8f772a0cce7ce4c2af2a52f1754534dac28bdc56da1b73cb46aac2b7f07834d (from https://pypi.org/simple/transformers/) (requires-python:>=3.7.0))\n",
            "Reason for being yanked: Version was not properly set\u001b[0m\u001b[33m\n",
            "\u001b[0mInstalling collected packages: transformers\n",
            "  Attempting uninstall: transformers\n",
            "    Found existing installation: transformers 4.26.0\n",
            "    Uninstalling transformers-4.26.0:\n",
            "      Successfully uninstalled transformers-4.26.0\n",
            "Successfully installed transformers-4.25.0\n"
          ]
        },
        {
          "data": {
            "application/vnd.colab-display-data+json": {
              "pip_warning": {
                "packages": [
                  "transformers"
                ]
              }
            }
          },
          "metadata": {},
          "output_type": "display_data"
        }
      ],
      "source": [
        "! pip install transformers==4.25.0"
      ]
    },
    {
      "cell_type": "code",
      "execution_count": 2,
      "metadata": {
        "id": "8RjDE6ZwcHlh"
      },
      "outputs": [],
      "source": [
        "import os \n",
        "from transformers import pipeline\n",
        "from sklearn.metrics import accuracy_score, precision_score, recall_score, f1_score\n",
        "import pandas as pd"
      ]
    },
    {
      "cell_type": "code",
      "execution_count": 3,
      "metadata": {
        "colab": {
          "base_uri": "https://localhost:8080/"
        },
        "id": "TlFvHRgicHn1",
        "outputId": "0930bb88-12b2-4a4d-e45e-ab91c18910ad"
      },
      "outputs": [
        {
          "data": {
            "text/plain": [
              "(4763, 2)"
            ]
          },
          "execution_count": 3,
          "metadata": {},
          "output_type": "execute_result"
        }
      ],
      "source": [
        "test_set = pd.read_csv('./data/test.csv')\n",
        "test_set.shape"
      ]
    },
    {
      "cell_type": "code",
      "execution_count": 4,
      "metadata": {
        "colab": {
          "base_uri": "https://localhost:8080/"
        },
        "id": "sH0xWhU0cHuf",
        "outputId": "cd2d9994-a4ae-4c19-b715-a1229b0545ca"
      },
      "outputs": [
        {
          "name": "stderr",
          "output_type": "stream",
          "text": [
            "Some weights of the model checkpoint at roberta-base-openai-detector were not used when initializing RobertaForSequenceClassification: ['roberta.pooler.dense.bias', 'roberta.pooler.dense.weight']\n",
            "- This IS expected if you are initializing RobertaForSequenceClassification from the checkpoint of a model trained on another task or with another architecture (e.g. initializing a BertForSequenceClassification model from a BertForPreTraining model).\n",
            "- This IS NOT expected if you are initializing RobertaForSequenceClassification from the checkpoint of a model that you expect to be exactly identical (initializing a BertForSequenceClassification model from a BertForSequenceClassification model).\n"
          ]
        }
      ],
      "source": [
        "# openAI detector\n",
        "\n",
        "pipe = pipeline(model=\"roberta-base-openai-detector\")"
      ]
    },
    {
      "cell_type": "code",
      "execution_count": 5,
      "metadata": {
        "id": "Zn4uN1Gcc-rA"
      },
      "outputs": [],
      "source": [
        "test_set.text = test_set.text.astype(str)"
      ]
    },
    {
      "cell_type": "code",
      "execution_count": 6,
      "metadata": {
        "id": "XHbvK81Uc-tE"
      },
      "outputs": [],
      "source": [
        "test_set['predictions'] = test_set.text.apply(lambda x : pipe(x))"
      ]
    },
    {
      "cell_type": "code",
      "execution_count": 7,
      "metadata": {
        "id": "X7kudBrjc-vW"
      },
      "outputs": [],
      "source": [
        "test_set['predicted_label'] = test_set.predictions.apply(lambda x: x[0]['label'])"
      ]
    },
    {
      "cell_type": "code",
      "execution_count": 8,
      "metadata": {
        "id": "MSAjNe8cc-yT"
      },
      "outputs": [],
      "source": [
        "test_set['predicted_label'] = test_set['predicted_label'].replace({'Real':0, 'Fake':1})"
      ]
    },
    {
      "cell_type": "code",
      "execution_count": 9,
      "metadata": {
        "colab": {
          "base_uri": "https://localhost:8080/"
        },
        "id": "OieShU_0dXb-",
        "outputId": "170857b9-89ab-4ae3-f58b-349d73e35447"
      },
      "outputs": [
        {
          "data": {
            "text/plain": [
              "(0.7677934075162712, 0.848651623555311, 0.649810366624526, 0.7360381861575179)"
            ]
          },
          "execution_count": 9,
          "metadata": {},
          "output_type": "execute_result"
        }
      ],
      "source": [
        "accuracy_score(test_set.label, test_set.predicted_label), precision_score(test_set.label, test_set.predicted_label), recall_score(test_set.label, test_set.predicted_label), f1_score(test_set.label, test_set.predicted_label)"
      ]
    },
    {
      "cell_type": "markdown",
      "metadata": {
        "id": "NP12JhtZWXwU"
      },
      "source": [
        "### ML Benchmarks"
      ]
    },
    {
      "cell_type": "code",
      "execution_count": null,
      "metadata": {
        "colab": {
          "base_uri": "https://localhost:8080/"
        },
        "id": "LKgOxiyCWXNj",
        "outputId": "17dbcff3-1b73-4bc9-a6c6-683bbc6a5a7b"
      },
      "outputs": [
        {
          "name": "stdout",
          "output_type": "stream",
          "text": [
            "Looking in indexes: https://pypi.org/simple, https://us-python.pkg.dev/colab-wheels/public/simple/\n",
            "Collecting scikit-learn==0.22\n",
            "  Downloading scikit_learn-0.22-cp38-cp38-manylinux1_x86_64.whl (7.0 MB)\n",
            "\u001b[2K     \u001b[90m━━━━━━━━━━━━━━━━━━━━━━━━━━━━━━━━━━━━━━━━\u001b[0m \u001b[32m7.0/7.0 MB\u001b[0m \u001b[31m24.9 MB/s\u001b[0m eta \u001b[36m0:00:00\u001b[0m\n",
            "\u001b[?25hRequirement already satisfied: scipy>=0.17.0 in /usr/local/lib/python3.8/dist-packages (from scikit-learn==0.22) (1.7.3)\n",
            "Requirement already satisfied: joblib>=0.11 in /usr/local/lib/python3.8/dist-packages (from scikit-learn==0.22) (1.2.0)\n",
            "Requirement already satisfied: numpy>=1.11.0 in /usr/local/lib/python3.8/dist-packages (from scikit-learn==0.22) (1.21.6)\n",
            "Installing collected packages: scikit-learn\n",
            "  Attempting uninstall: scikit-learn\n",
            "    Found existing installation: scikit-learn 1.0.2\n",
            "    Uninstalling scikit-learn-1.0.2:\n",
            "      Successfully uninstalled scikit-learn-1.0.2\n",
            "\u001b[31mERROR: pip's dependency resolver does not currently take into account all the packages that are installed. This behaviour is the source of the following dependency conflicts.\n",
            "yellowbrick 1.5 requires scikit-learn>=1.0.0, but you have scikit-learn 0.22 which is incompatible.\n",
            "imbalanced-learn 0.8.1 requires scikit-learn>=0.24, but you have scikit-learn 0.22 which is incompatible.\u001b[0m\u001b[31m\n",
            "\u001b[0mSuccessfully installed scikit-learn-0.22\n",
            "Looking in indexes: https://pypi.org/simple, https://us-python.pkg.dev/colab-wheels/public/simple/\n",
            "Collecting xgboost==1.7.3\n",
            "  Downloading xgboost-1.7.3-py3-none-manylinux2014_x86_64.whl (193.6 MB)\n",
            "\u001b[2K     \u001b[90m━━━━━━━━━━━━━━━━━━━━━━━━━━━━━━━━━━━━━━━\u001b[0m \u001b[32m193.6/193.6 MB\u001b[0m \u001b[31m6.3 MB/s\u001b[0m eta \u001b[36m0:00:00\u001b[0m\n",
            "\u001b[?25hRequirement already satisfied: numpy in /usr/local/lib/python3.8/dist-packages (from xgboost==1.7.3) (1.21.6)\n",
            "Requirement already satisfied: scipy in /usr/local/lib/python3.8/dist-packages (from xgboost==1.7.3) (1.7.3)\n",
            "Installing collected packages: xgboost\n",
            "  Attempting uninstall: xgboost\n",
            "    Found existing installation: xgboost 0.90\n",
            "    Uninstalling xgboost-0.90:\n",
            "      Successfully uninstalled xgboost-0.90\n",
            "Successfully installed xgboost-1.7.3\n"
          ]
        }
      ],
      "source": [
        "! pip install scikit-learn==0.22\n",
        "! pip install xgboost==1.7.3"
      ]
    },
    {
      "cell_type": "code",
      "execution_count": null,
      "metadata": {
        "colab": {
          "base_uri": "https://localhost:8080/"
        },
        "id": "tmd3TPUwWnNQ",
        "outputId": "0fe88b1f-0431-4a7e-ad89-6969fb73763a"
      },
      "outputs": [
        {
          "name": "stdout",
          "output_type": "stream",
          "text": [
            "Model chosen: lr.\n",
            "Optimising..\n",
            "Best estimator: \n",
            "LogisticRegression(C=0.01, class_weight=None, dual=False, fit_intercept=True,\n",
            "                   intercept_scaling=1, l1_ratio=None, max_iter=2000,\n",
            "                   multi_class='auto', n_jobs=None, penalty='l2',\n",
            "                   random_state=None, solver='lbfgs', tol=0.0001, verbose=0,\n",
            "                   warm_start=False)\n",
            "LogisticRegression(C=0.01, class_weight=None, dual=False, fit_intercept=True,\n",
            "                   intercept_scaling=1, l1_ratio=None, max_iter=2000,\n",
            "                   multi_class='auto', n_jobs=None, penalty='l2',\n",
            "                   random_state=None, solver='lbfgs', tol=0.0001, verbose=0,\n",
            "                   warm_start=False)\n",
            "Evaluation metrics on test set: \n",
            "Accuracy:  85.07 %\n",
            "Precision:  87.0 %\n",
            "Recall:  82.34 %\n",
            "F1-score 84.61 %\n"
          ]
        }
      ],
      "source": [
        "# Logistic Regression\n",
        "\n",
        "! python3 src/benchmarks_sklearn.py --model lr"
      ]
    },
    {
      "cell_type": "code",
      "execution_count": null,
      "metadata": {
        "colab": {
          "base_uri": "https://localhost:8080/"
        },
        "id": "K9EWyuouWnPs",
        "outputId": "d2c72c06-8cbc-444e-c857-d7e61364c358"
      },
      "outputs": [
        {
          "name": "stdout",
          "output_type": "stream",
          "text": [
            "Model chosen: nb.\n",
            "Optimising..\n",
            "Best estimator: \n",
            "MultinomialNB(alpha=10, class_prior=None, fit_prior=True)\n",
            "MultinomialNB(alpha=10, class_prior=None, fit_prior=True)\n",
            "Evaluation metrics on test set: \n",
            "Accuracy:  83.48 %\n",
            "Precision:  93.62 %\n",
            "Recall:  71.72 %\n",
            "F1-score 81.22 %\n"
          ]
        }
      ],
      "source": [
        "# Naive Bayes\n",
        "\n",
        "! python3 src/benchmarks_sklearn.py --model nb"
      ]
    },
    {
      "cell_type": "code",
      "execution_count": null,
      "metadata": {
        "colab": {
          "base_uri": "https://localhost:8080/"
        },
        "id": "UmssIaW_WnRy",
        "outputId": "10b0d72f-4c5e-4e40-f7ff-6582fdfaa16a"
      },
      "outputs": [
        {
          "name": "stdout",
          "output_type": "stream",
          "text": [
            "Model chosen: rf.\n",
            "Optimising..\n",
            "Best estimator: \n",
            "RandomForestClassifier(bootstrap=True, ccp_alpha=0.0, class_weight=None,\n",
            "                       criterion='gini', max_depth=14, max_features='auto',\n",
            "                       max_leaf_nodes=None, max_samples=None,\n",
            "                       min_impurity_decrease=0.0, min_impurity_split=None,\n",
            "                       min_samples_leaf=1, min_samples_split=2,\n",
            "                       min_weight_fraction_leaf=0.0, n_estimators=125,\n",
            "                       n_jobs=None, oob_score=False, random_state=None,\n",
            "                       verbose=0, warm_start=False)\n",
            "RandomForestClassifier(bootstrap=True, ccp_alpha=0.0, class_weight=None,\n",
            "                       criterion='gini', max_depth=14, max_features='auto',\n",
            "                       max_leaf_nodes=None, max_samples=None,\n",
            "                       min_impurity_decrease=0.0, min_impurity_split=None,\n",
            "                       min_samples_leaf=1, min_samples_split=2,\n",
            "                       min_weight_fraction_leaf=0.0, n_estimators=125,\n",
            "                       n_jobs=None, oob_score=False, random_state=None,\n",
            "                       verbose=0, warm_start=False)\n",
            "Evaluation metrics on test set: \n",
            "Accuracy:  82.39 %\n",
            "Precision:  84.61 %\n",
            "Recall:  79.01 %\n",
            "F1-score 81.72 %\n"
          ]
        }
      ],
      "source": [
        "# Random Forest\n",
        "\n",
        "! python3 src/benchmarks_sklearn.py --model rf"
      ]
    },
    {
      "cell_type": "code",
      "execution_count": null,
      "metadata": {
        "colab": {
          "base_uri": "https://localhost:8080/"
        },
        "id": "Bfpk0WtIX6qY",
        "outputId": "248409bc-cdc6-4cb9-ef04-e660ec9e5097"
      },
      "outputs": [
        {
          "name": "stdout",
          "output_type": "stream",
          "text": [
            "Model chosen: xgb.\n",
            "Optimising..\n",
            "Best estimator: \n",
            "XGBClassifier(base_score=None, booster=None, callbacks=None,\n",
            "              colsample_bylevel=None, colsample_bynode=None,\n",
            "              colsample_bytree=None, early_stopping_rounds=None,\n",
            "              enable_categorical=False, eta=0.05, eval_metric=None,\n",
            "              feature_types=None, gamma=None, gpu_id=None, grow_policy=None,\n",
            "              importance_type=None, interaction_constraints=None,\n",
            "              learning_rate=None, max_bin=None, max_cat_threshold=None,\n",
            "              max_cat_to_onehot=None, max_delta_step=None, max_depth=6,\n",
            "              max_leaves=None, min_child_weight=None, missing=nan,\n",
            "              monotone_constraints=None, n_estimators=125, n_jobs=None,\n",
            "              num_parallel_tree=None, objective='binary:logistic', ...)\n",
            "XGBClassifier(base_score=None, booster=None, callbacks=None,\n",
            "              colsample_bylevel=None, colsample_bynode=None,\n",
            "              colsample_bytree=None, early_stopping_rounds=None,\n",
            "              enable_categorical=False, eta=0.05, eval_metric=None,\n",
            "              feature_types=None, gamma=None, gpu_id=None, grow_policy=None,\n",
            "              importance_type=None, interaction_constraints=None,\n",
            "              learning_rate=None, max_bin=None, max_cat_threshold=None,\n",
            "              max_cat_to_onehot=None, max_delta_step=None, max_depth=6,\n",
            "              max_leaves=None, min_child_weight=None, missing=nan,\n",
            "              monotone_constraints=None, n_estimators=125, n_jobs=None,\n",
            "              num_parallel_tree=None, objective='binary:logistic', ...)\n",
            "Evaluation metrics on test set: \n",
            "Accuracy:  83.18 %\n",
            "Precision:  86.59 %\n",
            "Recall:  78.38 %\n",
            "F1-score 82.28 %\n"
          ]
        }
      ],
      "source": [
        "# XGBoost\n",
        "\n",
        "! python3 src/benchmarks_sklearn.py --model xgb"
      ]
    },
    {
      "cell_type": "markdown",
      "metadata": {
        "id": "C3ad2GYFMbaF"
      },
      "source": [
        "### LSTM - Train and Test"
      ]
    },
    {
      "cell_type": "code",
      "execution_count": null,
      "metadata": {
        "colab": {
          "base_uri": "https://localhost:8080/"
        },
        "id": "nGVItDch7ONl",
        "outputId": "b301cd06-6d0b-4a88-f92a-a68879423988"
      },
      "outputs": [
        {
          "name": "stdout",
          "output_type": "stream",
          "text": [
            "Looking in indexes: https://pypi.org/simple, https://us-python.pkg.dev/colab-wheels/public/simple/\n",
            "Collecting torch==1.9.0\n",
            "  Downloading torch-1.9.0-cp38-cp38-manylinux1_x86_64.whl (831.4 MB)\n",
            "\u001b[2K     \u001b[90m━━━━━━━━━━━━━━━━━━━━━━━━━━━━━━━━━━━━━━━\u001b[0m \u001b[32m831.4/831.4 MB\u001b[0m \u001b[31m1.9 MB/s\u001b[0m eta \u001b[36m0:00:00\u001b[0m\n",
            "\u001b[?25hRequirement already satisfied: typing-extensions in /usr/local/lib/python3.8/dist-packages (from torch==1.9.0) (4.4.0)\n",
            "Installing collected packages: torch\n",
            "  Attempting uninstall: torch\n",
            "    Found existing installation: torch 1.13.1+cu116\n",
            "    Uninstalling torch-1.13.1+cu116:\n",
            "      Successfully uninstalled torch-1.13.1+cu116\n",
            "\u001b[31mERROR: pip's dependency resolver does not currently take into account all the packages that are installed. This behaviour is the source of the following dependency conflicts.\n",
            "torchvision 0.14.1+cu116 requires torch==1.13.1, but you have torch 1.9.0 which is incompatible.\n",
            "torchtext 0.14.1 requires torch==1.13.1, but you have torch 1.9.0 which is incompatible.\n",
            "torchaudio 0.13.1+cu116 requires torch==1.13.1, but you have torch 1.9.0 which is incompatible.\u001b[0m\u001b[31m\n",
            "\u001b[0mSuccessfully installed torch-1.9.0\n",
            "Looking in indexes: https://pypi.org/simple, https://us-python.pkg.dev/colab-wheels/public/simple/\n",
            "Collecting torchtext==0.10.0\n",
            "  Downloading torchtext-0.10.0-cp38-cp38-manylinux1_x86_64.whl (7.6 MB)\n",
            "\u001b[2K     \u001b[90m━━━━━━━━━━━━━━━━━━━━━━━━━━━━━━━━━━━━━━━━\u001b[0m \u001b[32m7.6/7.6 MB\u001b[0m \u001b[31m85.9 MB/s\u001b[0m eta \u001b[36m0:00:00\u001b[0m\n",
            "\u001b[?25hRequirement already satisfied: torch==1.9.0 in /usr/local/lib/python3.8/dist-packages (from torchtext==0.10.0) (1.9.0)\n",
            "Requirement already satisfied: tqdm in /usr/local/lib/python3.8/dist-packages (from torchtext==0.10.0) (4.64.1)\n",
            "Requirement already satisfied: requests in /usr/local/lib/python3.8/dist-packages (from torchtext==0.10.0) (2.25.1)\n",
            "Requirement already satisfied: numpy in /usr/local/lib/python3.8/dist-packages (from torchtext==0.10.0) (1.21.6)\n",
            "Requirement already satisfied: typing-extensions in /usr/local/lib/python3.8/dist-packages (from torch==1.9.0->torchtext==0.10.0) (4.4.0)\n",
            "Requirement already satisfied: idna<3,>=2.5 in /usr/local/lib/python3.8/dist-packages (from requests->torchtext==0.10.0) (2.10)\n",
            "Requirement already satisfied: chardet<5,>=3.0.2 in /usr/local/lib/python3.8/dist-packages (from requests->torchtext==0.10.0) (4.0.0)\n",
            "Requirement already satisfied: certifi>=2017.4.17 in /usr/local/lib/python3.8/dist-packages (from requests->torchtext==0.10.0) (2022.12.7)\n",
            "Requirement already satisfied: urllib3<1.27,>=1.21.1 in /usr/local/lib/python3.8/dist-packages (from requests->torchtext==0.10.0) (1.24.3)\n",
            "Installing collected packages: torchtext\n",
            "  Attempting uninstall: torchtext\n",
            "    Found existing installation: torchtext 0.14.1\n",
            "    Uninstalling torchtext-0.14.1:\n",
            "      Successfully uninstalled torchtext-0.14.1\n",
            "Successfully installed torchtext-0.10.0\n"
          ]
        }
      ],
      "source": [
        "! pip install torch==1.9.0\n",
        "! pip install torchtext==0.10.0"
      ]
    },
    {
      "cell_type": "code",
      "execution_count": null,
      "metadata": {
        "colab": {
          "base_uri": "https://localhost:8080/"
        },
        "id": "UqY8z4vk8IYu",
        "outputId": "6581605e-9096-4500-82b3-0afd1c724b11"
      },
      "outputs": [
        {
          "name": "stdout",
          "output_type": "stream",
          "text": [
            "LSTM\n",
            "/usr/local/lib/python3.8/dist-packages/torchtext/data/utils.py:123: UserWarning: Spacy model \"en\" could not be loaded, trying \"en_core_web_sm\" instead\n",
            "  warnings.warn(f'Spacy model \"{language}\" could not be loaded, trying \"{OLD_MODEL_SHORTCUTS[language]}\" instead')\n",
            "Epoch:  1\n",
            "0.8446350762527233 0.7683615211496916 0.9194938215183572\n",
            "\n",
            "Epoch:  2\n",
            "0.8822848583877996 0.9001832682589406 0.8469693568902293\n",
            "\n",
            "Epoch:  3\n",
            "0.9001225490196079 0.8890568793220108 0.8926733413867008\n",
            "\n",
            "Epoch:  4\n",
            "0.9068627450980392 0.8836963640853891 0.9160211778689973\n",
            "\n",
            "Epoch:  5\n",
            "0.9120710784313726 0.8818227557151429 0.9294686411168178\n",
            "\n",
            "Epoch:  6\n",
            "0.9178921568627451 0.9047282577832343 0.9174654621268373\n",
            "\n",
            "Epoch:  7\n",
            "0.9197303921568627 0.887390695411315 0.9400910989477955\n",
            "\n",
            "Epoch:  8\n",
            "0.914828431372549 0.9064595724949062 0.9074656876690427\n",
            "\n",
            "Epoch:  9\n",
            "0.9169730392156863 0.917068861204106 0.9022680362057482\n",
            "\n",
            "Epoch:  10\n",
            "0.9224877450980392 0.8999004013938061 0.9313452251210955\n",
            "\n",
            "Epoch:  11\n",
            "0.9231004901960784 0.8949831609016423 0.9360736126114281\n",
            "\n",
            "Epoch:  12\n",
            "0.9231004901960784 0.8995015047300782 0.932278141443243\n",
            "\n",
            "Epoch:  13\n",
            "0.9261642156862745 0.896331815389551 0.9442345420194634\n",
            "\n",
            "Epoch:  14\n",
            "0.9231004901960784 0.9031088990108489 0.9307820766153844\n",
            "\n",
            "Epoch:  15\n",
            "0.9169730392156863 0.9248140045040029 0.8959435042453322\n",
            "\n",
            "Epoch:  16\n",
            "0.9252450980392157 0.9105812838230524 0.9309796957284859\n",
            "\n",
            "Epoch:  17\n",
            "0.9163602941176471 0.9192387248689099 0.9008264390860046\n",
            "\n",
            "Epoch:  18\n",
            "0.9267769607843137 0.9035790042513607 0.9428532690796875\n",
            "\n",
            "Epoch:  19\n",
            "0.9283088235294118 0.9078543719383003 0.9374330863006933\n",
            "\n",
            "Epoch:  20\n",
            "0.9252450980392157 0.9069983180315087 0.9347422634280529\n",
            "\n",
            "Epoch:  21\n",
            "0.9286151960784313 0.9070368539516906 0.9399809612954348\n",
            "\n",
            "Epoch:  22\n",
            "0.9255514705882353 0.9172499603322093 0.9260862904567779\n",
            "\n",
            "Epoch:  23\n",
            "0.9292279411764706 0.908585675545537 0.9394107109650743\n",
            "\n",
            "Epoch:  24\n",
            "0.9249387254901961 0.9068545024170058 0.9335222703784698\n",
            "\n",
            "Epoch:  25\n",
            "0.9258578431372549 0.9145736493501323 0.9297460328036686\n",
            "\n",
            "Epoch:  26\n",
            "0.9138752723311546 0.9211216257502544 0.8983812289298794\n",
            "\n",
            "Epoch:  27\n",
            "0.9132625272331154 0.9201511972332734 0.9032357080284574\n",
            "\n",
            "Epoch:  28\n",
            "0.9237132352941176 0.9286934249757138 0.9085720681113236\n",
            "\n",
            "Stopping at epoch:  28 .\n",
            "Converged. Results: \n",
            "(0.1884716731309891, 0.9370833333333334, 0.9309388590565063, 0.9308817581776138, 0.9370833333333334)\n"
          ]
        }
      ],
      "source": [
        "! python src/lstm.py"
      ]
    },
    {
      "attachments": {},
      "cell_type": "markdown",
      "metadata": {},
      "source": [
        "Accuracy: 93.71%\n",
        "\n",
        "Precision: 93.09%\n",
        "\n",
        "Recall: 93.09%\n",
        "\n",
        "F1-score: 93.09%"
      ]
    },
    {
      "cell_type": "markdown",
      "metadata": {
        "id": "xZmDPWZDMdXV"
      },
      "source": [
        "### GPT - Train"
      ]
    },
    {
      "cell_type": "code",
      "execution_count": null,
      "metadata": {
        "colab": {
          "base_uri": "https://localhost:8080/"
        },
        "id": "zfftT7eM_xz_",
        "outputId": "c3e009ac-ec4f-45c8-b7cc-e2f7221c9d98"
      },
      "outputs": [
        {
          "name": "stdout",
          "output_type": "stream",
          "text": [
            "Looking in indexes: https://pypi.org/simple, https://us-python.pkg.dev/colab-wheels/public/simple/\n",
            "Collecting transformers==4.25.0\n",
            "  Downloading transformers-4.25.0-py3-none-any.whl (5.8 MB)\n",
            "\u001b[2K     \u001b[90m━━━━━━━━━━━━━━━━━━━━━━━━━━━━━━━━━━━━━━━━\u001b[0m \u001b[32m5.8/5.8 MB\u001b[0m \u001b[31m33.4 MB/s\u001b[0m eta \u001b[36m0:00:00\u001b[0m\n",
            "\u001b[?25hRequirement already satisfied: regex!=2019.12.17 in /usr/local/lib/python3.8/dist-packages (from transformers==4.25.0) (2022.6.2)\n",
            "Requirement already satisfied: tqdm>=4.27 in /usr/local/lib/python3.8/dist-packages (from transformers==4.25.0) (4.64.1)\n",
            "Collecting tokenizers!=0.11.3,<0.14,>=0.11.1\n",
            "  Downloading tokenizers-0.13.2-cp38-cp38-manylinux_2_17_x86_64.manylinux2014_x86_64.whl (7.6 MB)\n",
            "\u001b[2K     \u001b[90m━━━━━━━━━━━━━━━━━━━━━━━━━━━━━━━━━━━━━━━━\u001b[0m \u001b[32m7.6/7.6 MB\u001b[0m \u001b[31m65.3 MB/s\u001b[0m eta \u001b[36m0:00:00\u001b[0m\n",
            "\u001b[?25hRequirement already satisfied: numpy>=1.17 in /usr/local/lib/python3.8/dist-packages (from transformers==4.25.0) (1.21.6)\n",
            "Collecting huggingface-hub<1.0,>=0.10.0\n",
            "  Downloading huggingface_hub-0.12.0-py3-none-any.whl (190 kB)\n",
            "\u001b[2K     \u001b[90m━━━━━━━━━━━━━━━━━━━━━━━━━━━━━━━━━━━━━━\u001b[0m \u001b[32m190.3/190.3 KB\u001b[0m \u001b[31m17.2 MB/s\u001b[0m eta \u001b[36m0:00:00\u001b[0m\n",
            "\u001b[?25hRequirement already satisfied: requests in /usr/local/lib/python3.8/dist-packages (from transformers==4.25.0) (2.25.1)\n",
            "Requirement already satisfied: filelock in /usr/local/lib/python3.8/dist-packages (from transformers==4.25.0) (3.9.0)\n",
            "Requirement already satisfied: pyyaml>=5.1 in /usr/local/lib/python3.8/dist-packages (from transformers==4.25.0) (6.0)\n",
            "Requirement already satisfied: packaging>=20.0 in /usr/local/lib/python3.8/dist-packages (from transformers==4.25.0) (23.0)\n",
            "Requirement already satisfied: typing-extensions>=3.7.4.3 in /usr/local/lib/python3.8/dist-packages (from huggingface-hub<1.0,>=0.10.0->transformers==4.25.0) (4.4.0)\n",
            "Requirement already satisfied: chardet<5,>=3.0.2 in /usr/local/lib/python3.8/dist-packages (from requests->transformers==4.25.0) (4.0.0)\n",
            "Requirement already satisfied: idna<3,>=2.5 in /usr/local/lib/python3.8/dist-packages (from requests->transformers==4.25.0) (2.10)\n",
            "Requirement already satisfied: urllib3<1.27,>=1.21.1 in /usr/local/lib/python3.8/dist-packages (from requests->transformers==4.25.0) (1.24.3)\n",
            "Requirement already satisfied: certifi>=2017.4.17 in /usr/local/lib/python3.8/dist-packages (from requests->transformers==4.25.0) (2022.12.7)\n",
            "\u001b[33mWARNING: The candidate selected for download or install is a yanked version: 'transformers' candidate (version 4.25.0 at https://files.pythonhosted.org/packages/2b/a6/b32ba581c064276dc254a4c2bdf5301a942fa28a4a9b41209d8909da37d2/transformers-4.25.0-py3-none-any.whl#sha256=e8f772a0cce7ce4c2af2a52f1754534dac28bdc56da1b73cb46aac2b7f07834d (from https://pypi.org/simple/transformers/) (requires-python:>=3.7.0))\n",
            "Reason for being yanked: Version was not properly set\u001b[0m\u001b[33m\n",
            "\u001b[0mInstalling collected packages: tokenizers, huggingface-hub, transformers\n",
            "Successfully installed huggingface-hub-0.12.0 tokenizers-0.13.2 transformers-4.25.0\n",
            "Looking in indexes: https://pypi.org/simple, https://us-python.pkg.dev/colab-wheels/public/simple/\n",
            "Collecting torch==1.12\n",
            "  Downloading torch-1.12.0-cp38-cp38-manylinux1_x86_64.whl (776.3 MB)\n",
            "\u001b[2K     \u001b[90m━━━━━━━━━━━━━━━━━━━━━━━━━━━━━━━━━━━━━━━\u001b[0m \u001b[32m776.3/776.3 MB\u001b[0m \u001b[31m1.3 MB/s\u001b[0m eta \u001b[36m0:00:00\u001b[0m\n",
            "\u001b[?25hRequirement already satisfied: typing-extensions in /usr/local/lib/python3.8/dist-packages (from torch==1.12) (4.4.0)\n",
            "Installing collected packages: torch\n",
            "  Attempting uninstall: torch\n",
            "    Found existing installation: torch 1.13.1+cu116\n",
            "    Uninstalling torch-1.13.1+cu116:\n",
            "      Successfully uninstalled torch-1.13.1+cu116\n",
            "\u001b[31mERROR: pip's dependency resolver does not currently take into account all the packages that are installed. This behaviour is the source of the following dependency conflicts.\n",
            "torchvision 0.14.1+cu116 requires torch==1.13.1, but you have torch 1.12.0 which is incompatible.\n",
            "torchtext 0.14.1 requires torch==1.13.1, but you have torch 1.12.0 which is incompatible.\n",
            "torchaudio 0.13.1+cu116 requires torch==1.13.1, but you have torch 1.12.0 which is incompatible.\u001b[0m\u001b[31m\n",
            "\u001b[0mSuccessfully installed torch-1.12.0\n",
            "Looking in indexes: https://pypi.org/simple, https://us-python.pkg.dev/colab-wheels/public/simple/\n",
            "Requirement already satisfied: scikit-learn==0.22 in /usr/local/lib/python3.8/dist-packages (0.22)\n",
            "Requirement already satisfied: numpy>=1.11.0 in /usr/local/lib/python3.8/dist-packages (from scikit-learn==0.22) (1.21.6)\n",
            "Requirement already satisfied: scipy>=0.17.0 in /usr/local/lib/python3.8/dist-packages (from scikit-learn==0.22) (1.7.3)\n",
            "Requirement already satisfied: joblib>=0.11 in /usr/local/lib/python3.8/dist-packages (from scikit-learn==0.22) (1.2.0)\n"
          ]
        }
      ],
      "source": [
        "! pip install transformers==4.25.0\n",
        "! pip install torch==1.12\n",
        "! pip install scikit-learn==0.22"
      ]
    },
    {
      "cell_type": "code",
      "execution_count": null,
      "metadata": {
        "colab": {
          "base_uri": "https://localhost:8080/"
        },
        "id": "J7Mcepo0_t4p",
        "outputId": "99ef78e9-ee25-420c-9413-115ceaca9d41"
      },
      "outputs": [
        {
          "name": "stdout",
          "output_type": "stream",
          "text": [
            "Training on device:  cuda\n",
            "Learning rate: 0.0001\n",
            "EPOCH: 1..\n",
            "Training..\n",
            "Processed 500th batch..\n",
            "Processed 1000th batch..\n",
            "Processed 1500th batch..\n",
            "Processed 2000th batch..\n",
            "Processed 2500th batch..\n",
            "Processed 3000th batch..\n",
            "Processed 3500th batch..\n",
            "Processed 4000th batch..\n",
            "Processed 4500th batch..\n",
            "Processed 5000th batch..\n",
            "Processed 5500th batch..\n",
            "Processed 6000th batch..\n",
            "Processed 6500th batch..\n",
            "Processed 7000th batch..\n",
            "Processed 7500th batch..\n",
            "Processed 8000th batch..\n",
            "Processed 8500th batch..\n",
            "Processed 9000th batch..\n",
            "Processed 9500th batch..\n",
            "Processed 10000th batch..\n",
            "Processed 10500th batch..\n",
            "Processed 11000th batch..\n",
            "Processed 11500th batch..\n",
            "Processed 12000th batch..\n",
            "Processed 12500th batch..\n",
            "Processed 13000th batch..\n",
            "Processed 13500th batch..\n",
            "Processed 14000th batch..\n",
            "Processed 14500th batch..\n",
            "Processed 15000th batch..\n",
            "Processed 15500th batch..\n",
            "Processed 16000th batch..\n",
            "Testing..\n",
            "/usr/local/lib/python3.8/dist-packages/torch/nn/functional.py:1960: UserWarning: nn.functional.sigmoid is deprecated. Use torch.sigmoid instead.\n",
            "  warnings.warn(\"nn.functional.sigmoid is deprecated. Use torch.sigmoid instead.\")\n",
            "Prediction metrics at 0.5: \n",
            "Accuracy: 0.9432845123091306\n",
            "Precision: 0.9558541266794626\n",
            "Recall: 0.9296826384567517\n",
            "\n",
            "Prediction metrics at Youden 0.5297999978065491: \n",
            "Accuracy J: 0.9451542536615768\n",
            "Precision J: 0.962508080155139\n",
            "Recall J: 0.926571250777847\n",
            "Found best accuracy. Saving to disk.\n",
            "\n",
            "EPOCH: 2..\n",
            "Training..\n",
            "Processed 500th batch..\n",
            "Processed 1000th batch..\n",
            "Processed 1500th batch..\n",
            "Processed 2000th batch..\n",
            "Processed 2500th batch..\n",
            "Processed 3000th batch..\n",
            "Processed 3500th batch..\n",
            "Processed 4000th batch..\n",
            "Processed 4500th batch..\n",
            "Processed 5000th batch..\n",
            "Processed 5500th batch..\n",
            "Processed 6000th batch..\n",
            "Processed 6500th batch..\n",
            "Processed 7000th batch..\n",
            "Processed 7500th batch..\n",
            "Processed 8000th batch..\n",
            "Processed 8500th batch..\n",
            "Processed 9000th batch..\n",
            "Processed 9500th batch..\n",
            "Processed 10000th batch..\n",
            "Processed 10500th batch..\n",
            "Processed 11000th batch..\n",
            "Processed 11500th batch..\n",
            "Processed 12000th batch..\n",
            "Processed 12500th batch..\n",
            "Processed 13000th batch..\n",
            "Processed 13500th batch..\n",
            "Processed 14000th batch..\n",
            "Processed 14500th batch..\n",
            "Processed 15000th batch..\n",
            "Processed 15500th batch..\n",
            "Processed 16000th batch..\n",
            "Testing..\n",
            "/usr/local/lib/python3.8/dist-packages/torch/nn/functional.py:1960: UserWarning: nn.functional.sigmoid is deprecated. Use torch.sigmoid instead.\n",
            "  warnings.warn(\"nn.functional.sigmoid is deprecated. Use torch.sigmoid instead.\")\n",
            "Prediction metrics at 0.5: \n",
            "Accuracy: 0.9423496416329075\n",
            "Precision: 0.9416149068322981\n",
            "Recall: 0.9433727442439328\n",
            "\n",
            "Prediction metrics at Youden 0.5947999954223633: \n",
            "Accuracy J: 0.9476472421315052\n",
            "Precision J: 0.962106615285806\n",
            "Recall J: 0.9321717485998755\n",
            "Found best accuracy. Saving to disk.\n",
            "\n",
            "EPOCH: 3..\n",
            "Training..\n",
            "Processed 500th batch..\n",
            "Processed 1000th batch..\n",
            "Processed 1500th batch..\n",
            "Processed 2000th batch..\n",
            "Processed 2500th batch..\n",
            "Processed 3000th batch..\n",
            "Processed 3500th batch..\n",
            "Processed 4000th batch..\n",
            "Processed 4500th batch..\n",
            "Processed 5000th batch..\n",
            "Processed 5500th batch..\n",
            "Processed 6000th batch..\n",
            "Processed 6500th batch..\n",
            "Processed 7000th batch..\n",
            "Processed 7500th batch..\n",
            "Processed 8000th batch..\n",
            "Processed 8500th batch..\n",
            "Processed 9000th batch..\n",
            "Processed 9500th batch..\n",
            "Processed 10000th batch..\n",
            "Processed 10500th batch..\n",
            "Processed 11000th batch..\n",
            "Processed 11500th batch..\n",
            "Processed 12000th batch..\n",
            "Processed 12500th batch..\n",
            "Processed 13000th batch..\n",
            "Processed 13500th batch..\n",
            "Processed 14000th batch..\n",
            "Processed 14500th batch..\n",
            "Processed 15000th batch..\n",
            "Processed 15500th batch..\n",
            "Processed 16000th batch..\n",
            "Testing..\n",
            "/usr/local/lib/python3.8/dist-packages/torch/nn/functional.py:1960: UserWarning: nn.functional.sigmoid is deprecated. Use torch.sigmoid instead.\n",
            "  warnings.warn(\"nn.functional.sigmoid is deprecated. Use torch.sigmoid instead.\")\n",
            "Prediction metrics at 0.5: \n",
            "Accuracy: 0.9367404175755687\n",
            "Precision: 0.9148936170212766\n",
            "Recall: 0.9632856253889235\n",
            "\n",
            "Prediction metrics at Youden 0.8337000012397766: \n",
            "Accuracy J: 0.9442193829853537\n",
            "Precision J: 0.9703557312252964\n",
            "Recall J: 0.9166148102053516\n",
            "\n",
            "EPOCH: 4..\n",
            "Training..\n",
            "Processed 500th batch..\n",
            "Processed 1000th batch..\n",
            "Processed 1500th batch..\n",
            "Processed 2000th batch..\n",
            "Processed 2500th batch..\n",
            "Processed 3000th batch..\n",
            "Processed 3500th batch..\n",
            "Processed 4000th batch..\n",
            "Processed 4500th batch..\n",
            "Processed 5000th batch..\n",
            "Processed 5500th batch..\n",
            "Processed 6000th batch..\n",
            "Processed 6500th batch..\n",
            "Processed 7000th batch..\n",
            "Processed 7500th batch..\n",
            "Processed 8000th batch..\n",
            "Processed 8500th batch..\n",
            "Processed 9000th batch..\n",
            "Processed 9500th batch..\n",
            "Processed 10000th batch..\n",
            "Processed 10500th batch..\n",
            "Processed 11000th batch..\n",
            "Processed 11500th batch..\n",
            "Processed 12000th batch..\n",
            "Processed 12500th batch..\n",
            "Processed 13000th batch..\n",
            "Processed 13500th batch..\n",
            "Processed 14000th batch..\n",
            "Processed 14500th batch..\n",
            "Processed 15000th batch..\n",
            "Processed 15500th batch..\n",
            "Processed 16000th batch..\n",
            "Testing..\n",
            "/usr/local/lib/python3.8/dist-packages/torch/nn/functional.py:1960: UserWarning: nn.functional.sigmoid is deprecated. Use torch.sigmoid instead.\n",
            "  warnings.warn(\"nn.functional.sigmoid is deprecated. Use torch.sigmoid instead.\")\n",
            "Prediction metrics at 0.5: \n",
            "Accuracy: 0.9283265814895606\n",
            "Precision: 0.971898560657985\n",
            "Recall: 0.8823895457373989\n",
            "\n",
            "Prediction metrics at Youden 0.22269999980926514: \n",
            "Accuracy J: 0.9354939233406045\n",
            "Precision J: 0.9487179487179487\n",
            "Recall J: 0.9209707529558183\n",
            "\n",
            "EPOCH: 5..\n",
            "Training..\n",
            "Processed 500th batch..\n",
            "Processed 1000th batch..\n",
            "Processed 1500th batch..\n",
            "Processed 2000th batch..\n",
            "Processed 2500th batch..\n",
            "Processed 3000th batch..\n",
            "Processed 3500th batch..\n",
            "Processed 4000th batch..\n",
            "Processed 4500th batch..\n",
            "Processed 5000th batch..\n",
            "Processed 5500th batch..\n",
            "Processed 6000th batch..\n",
            "Processed 6500th batch..\n",
            "Processed 7000th batch..\n",
            "Processed 7500th batch..\n",
            "Processed 8000th batch..\n",
            "Processed 8500th batch..\n",
            "Processed 9000th batch..\n",
            "Processed 9500th batch..\n",
            "Processed 10000th batch..\n",
            "Processed 10500th batch..\n",
            "Processed 11000th batch..\n",
            "Processed 11500th batch..\n",
            "Processed 12000th batch..\n",
            "Processed 12500th batch..\n",
            "Processed 13000th batch..\n",
            "Processed 13500th batch..\n",
            "Processed 14000th batch..\n",
            "Processed 14500th batch..\n",
            "Processed 15000th batch..\n",
            "Processed 15500th batch..\n",
            "Processed 16000th batch..\n",
            "Testing..\n",
            "/usr/local/lib/python3.8/dist-packages/torch/nn/functional.py:1960: UserWarning: nn.functional.sigmoid is deprecated. Use torch.sigmoid instead.\n",
            "  warnings.warn(\"nn.functional.sigmoid is deprecated. Use torch.sigmoid instead.\")\n",
            "Prediction metrics at 0.5: \n",
            "Accuracy: 0.938921782486756\n",
            "Precision: 0.9542820347714102\n",
            "Recall: 0.9222153080273802\n",
            "\n",
            "Prediction metrics at Youden 0.5254999995231628: \n",
            "Accuracy J: 0.9395450296042381\n",
            "Precision J: 0.9572815533980582\n",
            "Recall J: 0.9203484754200373\n",
            "\n",
            "EPOCH: 6..\n",
            "Training..\n",
            "Processed 500th batch..\n",
            "Processed 1000th batch..\n",
            "Processed 1500th batch..\n",
            "Processed 2000th batch..\n",
            "Processed 2500th batch..\n",
            "Processed 3000th batch..\n",
            "Processed 3500th batch..\n",
            "Processed 4000th batch..\n",
            "Processed 4500th batch..\n",
            "Processed 5000th batch..\n",
            "Processed 5500th batch..\n",
            "Processed 6000th batch..\n",
            "Processed 6500th batch..\n",
            "Processed 7000th batch..\n",
            "Processed 7500th batch..\n",
            "Processed 8000th batch..\n",
            "Processed 8500th batch..\n",
            "Processed 9000th batch..\n",
            "Processed 9500th batch..\n",
            "Processed 10000th batch..\n",
            "Processed 10500th batch..\n",
            "Processed 11000th batch..\n",
            "Processed 11500th batch..\n",
            "Processed 12000th batch..\n",
            "Processed 12500th batch..\n",
            "Processed 13000th batch..\n",
            "Processed 13500th batch..\n",
            "Processed 14000th batch..\n",
            "Processed 14500th batch..\n",
            "Processed 15000th batch..\n",
            "Processed 15500th batch..\n",
            "Processed 16000th batch..\n",
            "Testing..\n",
            "/usr/local/lib/python3.8/dist-packages/torch/nn/functional.py:1960: UserWarning: nn.functional.sigmoid is deprecated. Use torch.sigmoid instead.\n",
            "  warnings.warn(\"nn.functional.sigmoid is deprecated. Use torch.sigmoid instead.\")\n",
            "Prediction metrics at 0.5: \n",
            "Accuracy: 0.9330009348706763\n",
            "Precision: 0.9591029023746702\n",
            "Recall: 0.9047915370255134\n",
            "\n",
            "Prediction metrics at Youden 0.45089998841285706: \n",
            "Accuracy J: 0.9336241819881583\n",
            "Precision J: 0.9573490813648294\n",
            "Recall J: 0.9079029247044181\n",
            "\n",
            "EPOCH: 7..\n",
            "Training..\n",
            "Processed 500th batch..\n",
            "Processed 1000th batch..\n",
            "Processed 1500th batch..\n",
            "Processed 2000th batch..\n",
            "Processed 2500th batch..\n",
            "Processed 3000th batch..\n",
            "Processed 3500th batch..\n",
            "Processed 4000th batch..\n",
            "Processed 4500th batch..\n",
            "Processed 5000th batch..\n",
            "Processed 5500th batch..\n",
            "Processed 6000th batch..\n",
            "Processed 6500th batch..\n",
            "Processed 7000th batch..\n",
            "Processed 7500th batch..\n",
            "Processed 8000th batch..\n",
            "Processed 8500th batch..\n",
            "Processed 9000th batch..\n",
            "Processed 9500th batch..\n",
            "Processed 10000th batch..\n",
            "Processed 10500th batch..\n",
            "Processed 11000th batch..\n",
            "Processed 11500th batch..\n",
            "Processed 12000th batch..\n",
            "Processed 12500th batch..\n",
            "Processed 13000th batch..\n",
            "Processed 13500th batch..\n",
            "Processed 14000th batch..\n",
            "Processed 14500th batch..\n",
            "Processed 15000th batch..\n",
            "Processed 15500th batch..\n",
            "Processed 16000th batch..\n",
            "Testing..\n",
            "/usr/local/lib/python3.8/dist-packages/torch/nn/functional.py:1960: UserWarning: nn.functional.sigmoid is deprecated. Use torch.sigmoid instead.\n",
            "  warnings.warn(\"nn.functional.sigmoid is deprecated. Use torch.sigmoid instead.\")\n",
            "Prediction metrics at 0.5: \n",
            "Accuracy: 0.9301963228420068\n",
            "Precision: 0.9552337063857801\n",
            "Recall: 0.9029247044181705\n",
            "\n",
            "Prediction metrics at Youden 0.614799976348877: \n",
            "Accuracy J: 0.9317544406357121\n",
            "Precision J: 0.9620505992010653\n",
            "Recall J: 0.8991910392034848\n",
            "Early stopping at epoch:  7 .\n"
          ]
        }
      ],
      "source": [
        "# torch 1.12\n",
        "\n",
        "! python3 src/gpt_2/train.py"
      ]
    },
    {
      "cell_type": "markdown",
      "metadata": {
        "id": "wORMy4a6B5Lh"
      },
      "source": [
        "### GPT - Eval"
      ]
    },
    {
      "cell_type": "code",
      "execution_count": null,
      "metadata": {
        "colab": {
          "base_uri": "https://localhost:8080/"
        },
        "id": "IDT8bWDLJzfF",
        "outputId": "dff3204d-c3a0-4957-ebd1-b89dfbfabdac"
      },
      "outputs": [
        {
          "name": "stdout",
          "output_type": "stream",
          "text": [
            "Loading Model..\n",
            "Downloading (…)olve/main/vocab.json: 100% 1.04M/1.04M [00:01<00:00, 940kB/s]\n",
            "Downloading (…)olve/main/merges.txt: 100% 456k/456k [00:00<00:00, 488kB/s]\n",
            "Downloading (…)lve/main/config.json: 100% 665/665 [00:00<00:00, 137kB/s]\n",
            "Downloading (…)\"pytorch_model.bin\";: 100% 548M/548M [00:05<00:00, 102MB/s]\n",
            "Model Loaded.\n",
            "Evaluating..\n",
            "/usr/local/lib/python3.8/dist-packages/torch/nn/functional.py:1960: UserWarning: nn.functional.sigmoid is deprecated. Use torch.sigmoid instead.\n",
            "  warnings.warn(\"nn.functional.sigmoid is deprecated. Use torch.sigmoid instead.\")\n",
            "Evaluation metrics on test set: \n",
            "Accuracy:  94.88 %\n",
            "Precision:  95.98 %\n",
            "Recall:  93.64 %\n",
            "F1-score 94.8 %\n"
          ]
        }
      ],
      "source": [
        "# best at epoch 2\n",
        "\n",
        "! python3 src/gpt_2/evaluate.py --weights_path \"output/gpt2_2.pt\" -j 0.5947999954223633"
      ]
    },
    {
      "cell_type": "code",
      "execution_count": null,
      "metadata": {
        "colab": {
          "base_uri": "https://localhost:8080/"
        },
        "id": "kULzgatzMVo3",
        "outputId": "88be418c-227c-438b-f208-042364aadd07"
      },
      "outputs": [
        {
          "name": "stdout",
          "output_type": "stream",
          "text": [
            "Loading Model..\n",
            "Model Loaded.\n",
            "Evaluating..\n",
            "/usr/local/lib/python3.8/dist-packages/torch/nn/functional.py:1960: UserWarning: nn.functional.sigmoid is deprecated. Use torch.sigmoid instead.\n",
            "  warnings.warn(\"nn.functional.sigmoid is deprecated. Use torch.sigmoid instead.\")\n",
            "Evaluation metrics on test set: \n",
            "Accuracy:  94.63 %\n",
            "Precision:  94.57 %\n",
            "Recall:  94.65 %\n",
            "F1-score 94.61 %\n"
          ]
        }
      ],
      "source": [
        "# at threshold 0.5\n",
        "\n",
        "! python3 src/gpt_2/evaluate.py --weights_path \"output/gpt2_2.pt\" -j 0.5"
      ]
    },
    {
      "cell_type": "code",
      "execution_count": null,
      "metadata": {
        "id": "l4ILrIZliA4z"
      },
      "outputs": [],
      "source": []
    }
  ],
  "metadata": {
    "colab": {
      "provenance": []
    },
    "gpuClass": "standard",
    "kernelspec": {
      "display_name": "Python 3",
      "name": "python3"
    },
    "language_info": {
      "name": "python"
    }
  },
  "nbformat": 4,
  "nbformat_minor": 0
}
